{
 "cells": [
  {
   "cell_type": "code",
   "execution_count": null,
   "id": "a0147a10-052c-44c5-a940-045acc4c4fd8",
   "metadata": {},
   "outputs": [],
   "source": [
    "from nba_api.stats.endpoints import leaguegamefinder, BoxScoreSummaryV2\n",
    "import pandas as pd\n",
    "import time\n",
    "\n",
    "# Step 1: Get recent games\n",
    "gamefinder = leaguegamefinder.LeagueGameFinder(season_nullable=\"2023-24\")\n",
    "games_df = gamefinder.get_data_frames()[0]\n",
    "\n",
    "# Get unique game_ids\n",
    "game_ids = games_df['GAME_ID'].unique()\n",
    "\n",
    "# Step 2: Loop through games and collect per-quarter stats\n",
    "all_games = []\n",
    "\n",
    "for i, game_id in enumerate(game_ids[:50]):  # Limit to first 50 games for now\n",
    "    try:\n",
    "        box_summary = BoxScoreSummaryV2(game_id=game_id)\n",
    "        line_score = box_summary.get_data_frames()[5]\n",
    "        all_games.append(line_score)\n",
    "        time.sleep(0.6)  # be kind to the API\n",
    "    except Exception as e:\n",
    "        print(f\"Failed on {game_id}: {e}\")\n",
    "\n",
    "# Step 3: Combine all into one DataFrame\n",
    "quarter_scores_df = pd.concat(all_games, ignore_index=True)\n",
    "\n",
    "# Show the first few rows\n",
    "print(quarter_scores_df[['TEAM_CITY_NAME', 'TEAM_NICKNAME', 'PTS_QTR1', 'PTS_QTR2', 'PTS_QTR3', 'PTS_QTR4', 'PTS']].head())\n",
    "print('hello')\n"
   ]
  },
  {
   "cell_type": "code",
   "execution_count": null,
   "id": "72217c5d-a256-4519-a8bf-beb8971ce4d8",
   "metadata": {},
   "outputs": [],
   "source": []
  }
 ],
 "metadata": {
  "kernelspec": {
   "display_name": "Python (base)",
   "language": "python",
   "name": "base"
  },
  "language_info": {
   "codemirror_mode": {
    "name": "ipython",
    "version": 3
   },
   "file_extension": ".py",
   "mimetype": "text/x-python",
   "name": "python",
   "nbconvert_exporter": "python",
   "pygments_lexer": "ipython3",
   "version": "3.12.7"
  }
 },
 "nbformat": 4,
 "nbformat_minor": 5
}
