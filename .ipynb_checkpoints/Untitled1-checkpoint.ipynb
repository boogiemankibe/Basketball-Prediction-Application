{
 "cells": [
  {
   "cell_type": "code",
   "execution_count": 1,
   "id": "16df20d9-bbd4-4352-a9db-8d8f38d6661d",
   "metadata": {},
   "outputs": [
    {
     "name": "stdout",
     "output_type": "stream",
     "text": [
      "                TEAM_NAME   SEASON  EFG_PCT\n",
      "1          Boston Celtics  2023-24    0.578\n",
      "11         Indiana Pacers  2023-24    0.578\n",
      "25       Sacramento Kings  2022-23    0.572\n",
      "20  Oklahoma City Thunder  2023-24    0.573\n",
      "12            LA Clippers  2023-24    0.561\n",
      "Index(['TEAM_ID', 'TEAM_NAME', 'GP', 'W', 'L', 'W_PCT', 'MIN', 'E_OFF_RATING',\n",
      "       'OFF_RATING', 'E_DEF_RATING', 'DEF_RATING', 'E_NET_RATING',\n",
      "       'NET_RATING', 'AST_PCT', 'AST_TO', 'AST_RATIO', 'OREB_PCT', 'DREB_PCT',\n",
      "       'REB_PCT', 'TM_TOV_PCT', 'EFG_PCT', 'TS_PCT', 'E_PACE', 'PACE',\n",
      "       'PACE_PER40', 'POSS', 'PIE', 'GP_RANK', 'W_RANK', 'L_RANK',\n",
      "       'W_PCT_RANK', 'MIN_RANK', 'OFF_RATING_RANK', 'DEF_RATING_RANK',\n",
      "       'NET_RATING_RANK', 'AST_PCT_RANK', 'AST_TO_RANK', 'AST_RATIO_RANK',\n",
      "       'OREB_PCT_RANK', 'DREB_PCT_RANK', 'REB_PCT_RANK', 'TM_TOV_PCT_RANK',\n",
      "       'EFG_PCT_RANK', 'TS_PCT_RANK', 'PACE_RANK', 'PIE_RANK', 'SEASON'],\n",
      "      dtype='object')\n"
     ]
    }
   ],
   "source": [
    "from nba_api.stats.endpoints import leaguedashteamstats\n",
    "import pandas as pd\n",
    "seasons=['2022-23','2023-24']\n",
    "all_seasons_data=[]\n",
    "for season in seasons:\n",
    "    team_stats=leaguedashteamstats.LeagueDashTeamStats(measure_type_detailed_defense=\"Advanced\",season=season)\n",
    "    df=team_stats.get_data_frames()[0]\n",
    "    df['SEASON'] = season\n",
    "    all_seasons_data.append(df)\n",
    "seasonal_stats_df=pd.concat(all_seasons_data)\n",
    "#Best offensive teams\n",
    "best_offensive_teams=seasonal_stats_df.sort_values(by='OFF_RATING', ascending=False).head(5)\n",
    "print(best_offensive_teams[['TEAM_NAME',\"SEASON\",'EFG_PCT']])\n",
    "print(seasonal_stats_df.columns)"
   ]
  }
 ],
 "metadata": {
  "kernelspec": {
   "display_name": "Python (base)",
   "language": "python",
   "name": "base"
  },
  "language_info": {
   "codemirror_mode": {
    "name": "ipython",
    "version": 3
   },
   "file_extension": ".py",
   "mimetype": "text/x-python",
   "name": "python",
   "nbconvert_exporter": "python",
   "pygments_lexer": "ipython3",
   "version": "3.12.7"
  }
 },
 "nbformat": 4,
 "nbformat_minor": 5
}
